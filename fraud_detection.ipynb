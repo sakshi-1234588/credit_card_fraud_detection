{
 "cells": [
  {
   "cell_type": "code",
   "execution_count": 3,
   "id": "64f21ffb",
   "metadata": {},
   "outputs": [
    {
     "name": "stdout",
     "output_type": "stream",
     "text": [
      "Dataset shape: (142404, 31)\n",
      "\n",
      "Dataset Columns:\n",
      " Index(['Time', 'V1', 'V2', 'V3', 'V4', 'V5', 'V6', 'V7', 'V8', 'V9', 'V10',\n",
      "       'V11', 'V12', 'V13', 'V14', 'V15', 'V16', 'V17', 'V18', 'V19', 'V20',\n",
      "       'V21', 'V22', 'V23', 'V24', 'V25', 'V26', 'V27', 'V28', 'Amount',\n",
      "       'Class'],\n",
      "      dtype='object')\n",
      "\n",
      "First 5 records:\n",
      "        Time         V1        V2         V3        V4         V5        V6  \\\n",
      "0   41505.0 -16.526507  8.584972 -18.649853  9.505594 -13.793819 -2.832404   \n",
      "1   44261.0   0.339812 -2.743745  -0.134070 -1.385729  -1.451413  1.015887   \n",
      "2   35484.0   1.399590 -0.590701   0.168619 -1.029950  -0.539806  0.040444   \n",
      "3  167123.0  -0.432071  1.647895  -1.669361 -0.349504   0.785785 -0.630647   \n",
      "4  168473.0   2.014160 -0.137394  -1.015839  0.327269  -0.182179 -0.956571   \n",
      "\n",
      "          V7        V8        V9  ...       V21       V22       V23       V24  \\\n",
      "0 -16.701694  7.517344 -8.507059  ...  1.190739 -1.127670 -2.358579  0.673461   \n",
      "1  -0.524379  0.224060  0.899746  ... -0.213436 -0.942525 -0.526819 -1.156992   \n",
      "2  -0.712567  0.002299 -0.971747  ...  0.102398  0.168269 -0.166639 -0.810250   \n",
      "3   0.276990  0.586025 -0.484715  ...  0.358932  0.873663 -0.178642 -0.017171   \n",
      "4   0.043241 -0.160746  0.363241  ... -0.238644 -0.616400  0.347045  0.061561   \n",
      "\n",
      "        V25       V26       V27       V28  Amount  Class  \n",
      "0 -1.413700 -0.462762 -2.018575 -1.042804  364.19      1  \n",
      "1  0.311211 -0.746647  0.040996  0.102038  520.12      0  \n",
      "2  0.505083 -0.232340  0.011409  0.004634   31.00      0  \n",
      "3 -0.207392 -0.157756 -0.237386  0.001934    1.50      0  \n",
      "4 -0.360196  0.174730 -0.078043 -0.070571    0.89      0  \n",
      "\n",
      "[5 rows x 31 columns]\n"
     ]
    }
   ],
   "source": [
    "import pandas as pd\n",
    "import numpy as np\n",
    "data = pd.read_csv('creditcard_small.csv')\n",
    "print(\"Dataset shape:\", data.shape)\n",
    "print(\"\\nDataset Columns:\\n\", data.columns)\n",
    "print(\"\\nFirst 5 records:\\n\", data.head())      \n",
    "      "
   ]
  },
  {
   "cell_type": "code",
   "execution_count": 2,
   "id": "ee0d8b61",
   "metadata": {},
   "outputs": [
    {
     "name": "stdout",
     "output_type": "stream",
     "text": [
      "Time      0\n",
      "V1        0\n",
      "V2        0\n",
      "V3        0\n",
      "V4        0\n",
      "V5        0\n",
      "V6        0\n",
      "V7        0\n",
      "V8        0\n",
      "V9        0\n",
      "V10       0\n",
      "V11       0\n",
      "V12       0\n",
      "V13       0\n",
      "V14       0\n",
      "V15       0\n",
      "V16       0\n",
      "V17       0\n",
      "V18       0\n",
      "V19       0\n",
      "V20       0\n",
      "V21       0\n",
      "V22       0\n",
      "V23       0\n",
      "V24       0\n",
      "V25       0\n",
      "V26       0\n",
      "V27       0\n",
      "V28       0\n",
      "Amount    0\n",
      "Class     0\n",
      "dtype: int64\n"
     ]
    }
   ],
   "source": [
    "print(data.isnull().sum())\n"
   ]
  },
  {
   "cell_type": "code",
   "execution_count": 4,
   "id": "6000be98",
   "metadata": {},
   "outputs": [
    {
     "name": "stdout",
     "output_type": "stream",
     "text": [
      "Class\n",
      "0    142158\n",
      "1       246\n",
      "Name: count, dtype: int64\n"
     ]
    }
   ],
   "source": [
    "print(data['Class'].value_counts())"
   ]
  },
  {
   "cell_type": "code",
   "execution_count": 5,
   "id": "74392a05",
   "metadata": {},
   "outputs": [
    {
     "name": "stdout",
     "output_type": "stream",
     "text": [
      "          V1        V2         V3        V4         V5        V6         V7  \\\n",
      "0 -16.526507  8.584972 -18.649853  9.505594 -13.793819 -2.832404 -16.701694   \n",
      "1   0.339812 -2.743745  -0.134070 -1.385729  -1.451413  1.015887  -0.524379   \n",
      "2   1.399590 -0.590701   0.168619 -1.029950  -0.539806  0.040444  -0.712567   \n",
      "3  -0.432071  1.647895  -1.669361 -0.349504   0.785785 -0.630647   0.276990   \n",
      "4   2.014160 -0.137394  -1.015839  0.327269  -0.182179 -0.956571   0.043241   \n",
      "\n",
      "         V8        V9        V10  ...       V22       V23       V24       V25  \\\n",
      "0  7.517344 -8.507059 -14.110184  ... -1.127670 -2.358579  0.673461 -1.413700   \n",
      "1  0.224060  0.899746  -0.565012  ... -0.942525 -0.526819 -1.156992  0.311211   \n",
      "2  0.002299 -0.971747   0.756801  ...  0.168269 -0.166639 -0.810250  0.505083   \n",
      "3  0.586025 -0.484715  -1.376648  ...  0.873663 -0.178642 -0.017171 -0.207392   \n",
      "4 -0.160746  0.363241   0.259452  ... -0.616400  0.347045  0.061561 -0.360196   \n",
      "\n",
      "        V26       V27       V28  Class  normalizedAmount  normalizedTime  \n",
      "0 -0.462762 -2.018575 -1.042804      1          1.177915       -1.126764  \n",
      "1 -0.746647  0.040996  0.102038      0          1.842265       -1.068707  \n",
      "2 -0.232340  0.011409  0.004634      0         -0.241662       -1.253601  \n",
      "3 -0.157756 -0.237386  0.001934      0         -0.367349        1.519478  \n",
      "4  0.174730 -0.078043 -0.070571      0         -0.369948        1.547917  \n",
      "\n",
      "[5 rows x 31 columns]\n"
     ]
    }
   ],
   "source": [
    "from sklearn.preprocessing import StandardScaler\n",
    "data['normalizedAmount'] = StandardScaler().fit_transform(data['Amount'].values.reshape(-1,1))\n",
    "data['normalizedTime'] = StandardScaler().fit_transform(data['Time'].values.reshape(-1,1))\n",
    "data = data.drop(['Amount', 'Time'], axis=1)\n",
    "print(data.head())"
   ]
  },
  {
   "cell_type": "code",
   "execution_count": 11,
   "id": "4409beaa",
   "metadata": {},
   "outputs": [],
   "source": [
    "from sklearn.model_selection import train_test_split\n",
    "X = data.drop('Class', axis=1)\n",
    "y = data['Class']\n",
    "X_train, X_test, y_train, y_test =train_test_split(X, y,test_size=0.2, random_state=42, stratify=y)"
   ]
  },
  {
   "cell_type": "code",
   "execution_count": 12,
   "id": "a8632dd9",
   "metadata": {},
   "outputs": [
    {
     "name": "stdout",
     "output_type": "stream",
     "text": [
      "Accuracy: 0.9996488887328394\n",
      "\n",
      "Classification Report:\n",
      "               precision    recall  f1-score   support\n",
      "\n",
      "           0       1.00      1.00      1.00     28432\n",
      "           1       0.91      0.88      0.90        49\n",
      "\n",
      "    accuracy                           1.00     28481\n",
      "   macro avg       0.96      0.94      0.95     28481\n",
      "weighted avg       1.00      1.00      1.00     28481\n",
      "\n"
     ]
    }
   ],
   "source": [
    "from sklearn.ensemble import RandomForestClassifier\n",
    "from sklearn.metrics import classification_report, accuracy_score\n",
    "model = RandomForestClassifier(n_estimators=10)\n",
    "model.fit(X_train, y_train)\n",
    "y_pred = model.predict(X_test)\n",
    "print(\"Accuracy:\", accuracy_score(y_test, y_pred))\n",
    "print(\"\\nClassification Report:\\n\", classification_report(y_test, y_pred))"
   ]
  },
  {
   "cell_type": "code",
   "execution_count": 14,
   "id": "8c383898",
   "metadata": {},
   "outputs": [
    {
     "data": {
      "text/plain": [
       "['model/fraud_model.pkl']"
      ]
     },
     "execution_count": 14,
     "metadata": {},
     "output_type": "execute_result"
    }
   ],
   "source": [
    "import joblib\n",
    "joblib.dump(model, 'model/fraud_model.pkl')"
   ]
  },
  {
   "cell_type": "code",
   "execution_count": 16,
   "id": "fbbf5265",
   "metadata": {},
   "outputs": [],
   "source": [
    "import pandas as pd\n",
    "data = pd.read_csv('creditcard_small.csv')\n",
    "sample_data = data.sample(frac=0.5, random_state=42)\n",
    "sample_data.to_csv('creditcard_small.csv', index=False)"
   ]
  }
 ],
 "metadata": {
  "kernelspec": {
   "display_name": "Python 3",
   "language": "python",
   "name": "python3"
  },
  "language_info": {
   "codemirror_mode": {
    "name": "ipython",
    "version": 3
   },
   "file_extension": ".py",
   "mimetype": "text/x-python",
   "name": "python",
   "nbconvert_exporter": "python",
   "pygments_lexer": "ipython3",
   "version": "3.10.11"
  }
 },
 "nbformat": 4,
 "nbformat_minor": 5
}
